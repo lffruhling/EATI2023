{
  "nbformat": 4,
  "nbformat_minor": 0,
  "metadata": {
    "colab": {
      "provenance": [],
      "toc_visible": true,
      "authorship_tag": "ABX9TyPXCqLB7GkZg92cyC1M69sj",
      "include_colab_link": true
    },
    "kernelspec": {
      "name": "python3",
      "display_name": "Python 3"
    },
    "language_info": {
      "name": "python"
    }
  },
  "cells": [
    {
      "cell_type": "markdown",
      "metadata": {
        "id": "view-in-github",
        "colab_type": "text"
      },
      "source": [
        "<a href=\"https://colab.research.google.com/github/lffruhling/EATI2023/blob/main/Ex1.ipynb\" target=\"_parent\"><img src=\"https://colab.research.google.com/assets/colab-badge.svg\" alt=\"Open In Colab\"/></a>"
      ]
    },
    {
      "cell_type": "markdown",
      "source": [
        "Acessar o Google Resarch -> https://research.google.com/colaboratory/\n",
        "\n",
        "Logar com a conta Google....\n",
        "\n",
        "E la vamos nós...\n",
        "\n",
        "\n",
        "O Que vamos fazer nesse primeiro exemplo?\n",
        "\n",
        "Eu como bom saudosista, gosto de por as minhas musicas em um pendrive, por N motivos, um deles é a qualidade do aúdio, já que meu rádio do carro não tem bluetooth 5.0... Mas não tenho paciência para ficar procurando elas na internet em sites aleatórios... Com isso, tive a brilhante ideia de baixar os audios do Youtube, através de uma lista feita em CSV."
      ],
      "metadata": {
        "id": "70ig5-rDaMQ9"
      }
    },
    {
      "cell_type": "markdown",
      "source": [
        "Para resolver nosso problema, primeiro vamos importar nossa lista CSV. Clicando na pastinha ao lado, vamos fazer o upload de nossa lista.\n",
        "\n",
        "Um Detalhe... não existe um motivo para re-inventarmos a roda, então vamos uma uma biblioteca.... pytube\n",
        "\n",
        "para isso vamos acessar Acessa https://pypi.org/\n",
        "\n",
        "e pesquisar por pytube"
      ],
      "metadata": {
        "id": "Yz-3zT2GbxFY"
      }
    },
    {
      "cell_type": "code",
      "execution_count": 1,
      "metadata": {
        "colab": {
          "base_uri": "https://localhost:8080/"
        },
        "id": "8JgmQnikZk8V",
        "outputId": "69101109-5a9e-4a87-de20-53ea9047cb24"
      },
      "outputs": [
        {
          "output_type": "stream",
          "name": "stdout",
          "text": [
            "Collecting pytube\n",
            "  Downloading pytube-15.0.0-py3-none-any.whl (57 kB)\n",
            "\u001b[?25l     \u001b[90m━━━━━━━━━━━━━━━━━━━━━━━━━━━━━━━━━━━━━━━━\u001b[0m \u001b[32m0.0/57.6 kB\u001b[0m \u001b[31m?\u001b[0m eta \u001b[36m-:--:--\u001b[0m\r\u001b[2K     \u001b[90m━━━━━━━━━━━━━━━━━━━━━━━━━━━━━━━━━━━━━━━━\u001b[0m \u001b[32m57.6/57.6 kB\u001b[0m \u001b[31m1.8 MB/s\u001b[0m eta \u001b[36m0:00:00\u001b[0m\n",
            "\u001b[?25hInstalling collected packages: pytube\n",
            "Successfully installed pytube-15.0.0\n"
          ]
        }
      ],
      "source": [
        "pip install pytube"
      ]
    },
    {
      "cell_type": "markdown",
      "source": [
        "Ok, biblioteca instalada, agora vamos utiliza-la"
      ],
      "metadata": {
        "id": "TDn1XVo4ch4-"
      }
    },
    {
      "cell_type": "code",
      "source": [
        "from pytube import YouTube"
      ],
      "metadata": {
        "id": "dpYw-xLddx4Y"
      },
      "execution_count": 2,
      "outputs": []
    },
    {
      "cell_type": "markdown",
      "source": [
        "Nesse momento importamos somente um \"livro da biblioteca\", ou seja, para não pesar nem poluir muito nosso código cirugicamente importamos somente o que vamos utilizar"
      ],
      "metadata": {
        "id": "CwwUzwzWehAC"
      }
    },
    {
      "cell_type": "code",
      "source": [
        "import csv #Nativo do Python\n",
        "import os #Nativo do Python"
      ],
      "metadata": {
        "id": "2D0Lu1yrd1jn"
      },
      "execution_count": 3,
      "outputs": []
    },
    {
      "cell_type": "markdown",
      "source": [
        "Também vamos precisar importar as libs de CSV para manipular o arquivo de CSV e a lib de OS do proprio python"
      ],
      "metadata": {
        "id": "pLeEqhWLe4bK"
      }
    },
    {
      "cell_type": "code",
      "source": [
        "with open('lista.csv', newline='') as arquivocsv:\n",
        "    arquivostream = csv.reader(arquivocsv, delimiter=\";\")\n",
        "\n",
        "    next(arquivostream) #Pula cabeçalho\n",
        "\n",
        "    for linha in arquivostream: #Lê linhas\n",
        "        link = linha[2]\n",
        "        youtubeObject = YouTube(link) #Crio um objeto referenciando o meu link\n",
        "        # youtubeObject = youtubeObject.streams.filter(progressive=True, file_extension='mp4').get_highest_resolution() #Defino os parametros do meu download\n",
        "        youtubeObject = youtubeObject.streams.filter(only_audio=True).first()\n",
        "        out_file = youtubeObject.download()# Efetuo o download\n",
        "\n",
        "        print(out_file)\n",
        "\n",
        "        base, ext = os.path.splitext(out_file)\n",
        "        new_file = base + '.mp3'\n",
        "        os.rename(out_file, new_file)\n",
        "\n",
        "    arquivocsv.close() #fecha arquivo"
      ],
      "metadata": {
        "colab": {
          "base_uri": "https://localhost:8080/"
        },
        "id": "r0c2BHHid5Zn",
        "outputId": "e46e9fbb-02ab-4775-8203-c011b8420ab8"
      },
      "execution_count": 7,
      "outputs": [
        {
          "output_type": "stream",
          "name": "stdout",
          "text": [
            "/content/intouch - Now Im Broken  Garage House  NCS - Copyright Free Music.mp4\n",
            "/content/AC13 - Waves Ft Comma Dee (Music Video)  DnB   NCS - Copyright Free Music.mp4\n",
            "/content/On & On.mp4\n"
          ]
        }
      ]
    },
    {
      "cell_type": "markdown",
      "source": [
        "E pronto, conseguimos baixar a nossa playlist..."
      ],
      "metadata": {
        "id": "2ZwvOyygfFsv"
      }
    },
    {
      "cell_type": "code",
      "source": [],
      "metadata": {
        "id": "mV2ebhnsfJbc"
      },
      "execution_count": null,
      "outputs": []
    }
  ]
}